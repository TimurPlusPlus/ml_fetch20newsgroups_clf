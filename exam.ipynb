{
 "cells": [
  {
   "cell_type": "code",
   "execution_count": 84,
   "metadata": {},
   "outputs": [
    {
     "name": "stdout",
     "output_type": "stream",
     "text": [
      "Categories:  ['rec.motorcycles', 'rec.sport.baseball', 'rec.sport.hockey', 'sci.crypt']\n",
      "Ddocuments number:  3980\n"
     ]
    }
   ],
   "source": [
    "from sklearn.datasets import fetch_20newsgroups\n",
    "\n",
    "categories = ['rec.motorcycles',\n",
    " 'rec.sport.baseball',\n",
    " 'rec.sport.hockey',\n",
    " 'sci.crypt']\n",
    "\n",
    "news = fetch_20newsgroups(subset='all', categories=categories, shuffle=True, random_state=228)\n",
    "print(\"Categories: \", news.target_names)\n",
    "print(\"Ddocuments number: \", len(news.data))"
   ]
  },
  {
   "cell_type": "code",
   "execution_count": 85,
   "metadata": {},
   "outputs": [],
   "source": [
    "labels = news.target"
   ]
  },
  {
   "cell_type": "markdown",
   "metadata": {},
   "source": [
    "**Exctracting features:**"
   ]
  },
  {
   "cell_type": "code",
   "execution_count": 86,
   "metadata": {
    "collapsed": true
   },
   "outputs": [],
   "source": [
    "from sklearn.feature_extraction.text import TfidfVectorizer\n",
    "\n",
    "vectorizer = TfidfVectorizer(max_df=0.6, min_df=0.05, \n",
    "                             stop_words='english', use_idf=True)"
   ]
  },
  {
   "cell_type": "code",
   "execution_count": 87,
   "metadata": {},
   "outputs": [
    {
     "name": "stdout",
     "output_type": "stream",
     "text": [
      "Examples number: 3980\n",
      "Features number: 252\n"
     ]
    }
   ],
   "source": [
    "features = vectorizer.fit_transform(news.data)\n",
    "\n",
    "print(\"Examples number: %d\\nFeatures number: %d\" % features.shape)"
   ]
  },
  {
   "cell_type": "markdown",
   "metadata": {},
   "source": [
    "**Split the data:**"
   ]
  },
  {
   "cell_type": "code",
   "execution_count": 88,
   "metadata": {
    "collapsed": true
   },
   "outputs": [],
   "source": [
    "train_features, dev_test_features, train_labels, dev_test_labels = \\\n",
    "  ms.train_test_split(features, labels, train_size=0.8, random_state=228)\n",
    "dev_features, test_features, dev_labels, test_labels = \\\n",
    "  ms.train_test_split(dev_test_features, dev_test_labels, train_size=0.5, random_state=228)"
   ]
  },
  {
   "cell_type": "markdown",
   "metadata": {},
   "source": [
    "**Test:**"
   ]
  },
  {
   "cell_type": "code",
   "execution_count": 89,
   "metadata": {
    "collapsed": true
   },
   "outputs": [],
   "source": [
    "import sklearn.metrics\n",
    "\n",
    "def test(model, dev_features, dev_labels):\n",
    "    predicted_dev_labels = model.predict(dev_features)\n",
    "    print(sklearn.metrics.classification_report(dev_labels, predicted_dev_labels))\n",
    "    print()\n",
    "    print(sklearn.metrics.accuracy_score(test_labels, predicted_dev_labels))"
   ]
  },
  {
   "cell_type": "markdown",
   "metadata": {},
   "source": [
    "**Classification baseline:**"
   ]
  },
  {
   "cell_type": "code",
   "execution_count": 90,
   "metadata": {},
   "outputs": [
    {
     "data": {
      "text/plain": [
       "DecisionTreeClassifier(class_weight=None, criterion='gini', max_depth=None,\n",
       "            max_features=None, max_leaf_nodes=None,\n",
       "            min_impurity_split=1e-07, min_samples_leaf=1,\n",
       "            min_samples_split=2, min_weight_fraction_leaf=0.0,\n",
       "            presort=False, random_state=None, splitter='best')"
      ]
     },
     "execution_count": 90,
     "metadata": {},
     "output_type": "execute_result"
    }
   ],
   "source": [
    "import sklearn.tree\n",
    "\n",
    "tree_model = sklearn.tree.DecisionTreeClassifier()\n",
    "tree_model.fit(train_features, train_labels)"
   ]
  },
  {
   "cell_type": "code",
   "execution_count": 91,
   "metadata": {},
   "outputs": [
    {
     "name": "stdout",
     "output_type": "stream",
     "text": [
      "             precision    recall  f1-score   support\n",
      "\n",
      "          0       0.85      0.96      0.90        97\n",
      "          1       0.78      0.73      0.75        99\n",
      "          2       0.80      0.82      0.81       105\n",
      "          3       0.94      0.88      0.91        97\n",
      "\n",
      "avg / total       0.84      0.84      0.84       398\n",
      "\n",
      "\n",
      "0.256281407035\n"
     ]
    }
   ],
   "source": [
    "test(tree_model, dev_features, dev_labels)"
   ]
  },
  {
   "cell_type": "markdown",
   "metadata": {},
   "source": [
    "**Using XGBoost model:** "
   ]
  },
  {
   "cell_type": "code",
   "execution_count": 92,
   "metadata": {},
   "outputs": [
    {
     "data": {
      "text/plain": [
       "XGBClassifier(base_score=0.5, booster='gbtree', colsample_bylevel=1,\n",
       "       colsample_bytree=1, gamma=0, learning_rate=0.1, max_delta_step=0,\n",
       "       max_depth=3, min_child_weight=1, missing=None, n_estimators=100,\n",
       "       n_jobs=1, nthread=None, objective='multi:softprob', random_state=0,\n",
       "       reg_alpha=0, reg_lambda=1, scale_pos_weight=1, seed=None,\n",
       "       silent=True, subsample=1)"
      ]
     },
     "execution_count": 92,
     "metadata": {},
     "output_type": "execute_result"
    }
   ],
   "source": [
    "import xgboost\n",
    "\n",
    "xgb_model = xgboost.XGBClassifier()\n",
    "xgb_model.fit(train_features, train_labels)"
   ]
  },
  {
   "cell_type": "code",
   "execution_count": 93,
   "metadata": {},
   "outputs": [
    {
     "name": "stdout",
     "output_type": "stream",
     "text": [
      "             precision    recall  f1-score   support\n",
      "\n",
      "          0       0.96      0.91      0.93        97\n",
      "          1       0.82      0.88      0.85        99\n",
      "          2       0.86      0.91      0.89       105\n",
      "          3       0.99      0.91      0.95        97\n",
      "\n",
      "avg / total       0.91      0.90      0.90       398\n",
      "\n",
      "\n",
      "0.248743718593\n"
     ]
    }
   ],
   "source": [
    "test(xgb_model, dev_features, dev_labels)"
   ]
  },
  {
   "cell_type": "markdown",
   "metadata": {},
   "source": [
    "**Find appropriate hyperparameters for XGBoost model:**"
   ]
  },
  {
   "cell_type": "code",
   "execution_count": 94,
   "metadata": {
    "collapsed": true
   },
   "outputs": [],
   "source": [
    "import sklearn.model_selection as ms\n",
    "\n",
    "def find_best_params(model, param_grid, train_features, train_labels):\n",
    "    cv = ms.KFold(n_splits=3, shuffle=True, random_state=228)\n",
    "    grid_search = ms.GridSearchCV(model, param_grid, cv=cv)\n",
    "    grid_result = grid_search.fit(train_features, train_labels)\n",
    "    \n",
    "    print(\"Best: %0.4f using %s\" % (grid_result.best_score_, grid_result.best_params_))"
   ]
  },
  {
   "cell_type": "code",
   "execution_count": null,
   "metadata": {},
   "outputs": [],
   "source": [
    "n_estimators = [75, 85, 100, 150, 200]\n",
    "max_depth = [2, 3, 4, 6, 8]\n",
    "learning_rate = [0.001, 0.01, 0.1]\n",
    "param_grid = dict(max_depth=max_depth, n_estimators=n_estimators, learning_rate=learning_rate)\n",
    "\n",
    "find_best_params(xgboost.XGBClassifier(), param_grid, train_features, train_labels)"
   ]
  },
  {
   "cell_type": "markdown",
   "metadata": {},
   "source": [
    "**Test XGBoost model with found parameters:**"
   ]
  },
  {
   "cell_type": "code",
   "execution_count": 83,
   "metadata": {},
   "outputs": [
    {
     "name": "stdout",
     "output_type": "stream",
     "text": [
      "             precision    recall  f1-score   support\n",
      "\n",
      "          0       0.87      0.81      0.84        90\n",
      "          1       0.63      0.77      0.69        96\n",
      "          2       0.81      0.70      0.75        98\n",
      "          3       0.96      0.94      0.95       114\n",
      "\n",
      "avg / total       0.82      0.81      0.81       398\n",
      "\n",
      "\n",
      "0.811557788945\n"
     ]
    }
   ],
   "source": [
    "xgb_model_opt = xgboost.XGBClassifier(n_estimators=150, max_depth=8, learning_rate=0.1)\n",
    "xgb_model_opt.fit(dev_features, dev_labels)\n",
    "test(xgb_model_opt, test_features, test_labels)"
   ]
  },
  {
   "cell_type": "code",
   "execution_count": null,
   "metadata": {
    "collapsed": true
   },
   "outputs": [],
   "source": []
  }
 ],
 "metadata": {
  "kernelspec": {
   "display_name": "Python 3",
   "language": "python",
   "name": "python3"
  },
  "language_info": {
   "codemirror_mode": {
    "name": "ipython",
    "version": 3
   },
   "file_extension": ".py",
   "mimetype": "text/x-python",
   "name": "python",
   "nbconvert_exporter": "python",
   "pygments_lexer": "ipython3",
   "version": "3.6.1"
  }
 },
 "nbformat": 4,
 "nbformat_minor": 2
}
